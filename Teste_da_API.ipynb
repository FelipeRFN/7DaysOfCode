{
  "nbformat": 4,
  "nbformat_minor": 0,
  "metadata": {
    "colab": {
      "provenance": [],
      "authorship_tag": "ABX9TyP41PaYTOpcKkYTMWluTe5A",
      "include_colab_link": true
    },
    "kernelspec": {
      "name": "python3",
      "display_name": "Python 3"
    },
    "language_info": {
      "name": "python"
    }
  },
  "cells": [
    {
      "cell_type": "markdown",
      "metadata": {
        "id": "view-in-github",
        "colab_type": "text"
      },
      "source": [
        "<a href=\"https://colab.research.google.com/github/FelipeRFN/7DaysOfCode/blob/main/Teste_da_API.ipynb\" target=\"_parent\"><img src=\"https://colab.research.google.com/assets/colab-badge.svg\" alt=\"Open In Colab\"/></a>"
      ]
    },
    {
      "cell_type": "code",
      "execution_count": 1,
      "metadata": {
        "colab": {
          "base_uri": "https://localhost:8080/"
        },
        "id": "5Ih6eKFl_sxg",
        "outputId": "c7e5e6c5-80c1-47b2-b12c-8f381a35ea0d"
      },
      "outputs": [
        {
          "output_type": "stream",
          "name": "stdout",
          "text": [
            "\n",
            "Usage:   \n",
            "  pip3 install [options] <requirement specifier> [package-index-options] ...\n",
            "  pip3 install [options] -r <requirements file> [package-index-options] ...\n",
            "  pip3 install [options] [-e] <vcs project url> ...\n",
            "  pip3 install [options] [-e] <local project path> ...\n",
            "  pip3 install [options] <archive url/path> ...\n",
            "\n",
            "no such option: -u\n"
          ]
        }
      ],
      "source": [
        "!pip install -q -u google-generativeai"
      ]
    },
    {
      "cell_type": "code",
      "source": [
        "import google.generativeai as genai\n",
        "\n",
        "GOOGLE_API_KEY='My_API_Key'\n",
        "genai.configure(api_key=GOOGLE_API_KEY)"
      ],
      "metadata": {
        "id": "zidndEpPA7pN"
      },
      "execution_count": 4,
      "outputs": []
    },
    {
      "cell_type": "code",
      "source": [
        "model = genai.GenerativeModel('gemini-pro')"
      ],
      "metadata": {
        "id": "O_ga1rBlBFhU"
      },
      "execution_count": 5,
      "outputs": []
    },
    {
      "cell_type": "code",
      "source": [
        "response = model.generate_content('Vamos aprender conteúdos sobre IA. Me dê sugestões')\n",
        "print(response.text)"
      ],
      "metadata": {
        "colab": {
          "base_uri": "https://localhost:8080/",
          "height": 746
        },
        "id": "YOIPxPOGBwqb",
        "outputId": "618210dc-0281-4128-ae2f-c91365d6b636"
      },
      "execution_count": 6,
      "outputs": [
        {
          "output_type": "stream",
          "name": "stdout",
          "text": [
            "**Conceitos Básicos**\n",
            "\n",
            "* Definição de Inteligência Artificial (IA)\n",
            "* Tipos de IA (Aprendizado de Máquina, Aprendizado Profundo, etc.)\n",
            "* Ética e implicações sociais da IA\n",
            "\n",
            "**Aprendizado de Máquina (ML)**\n",
            "\n",
            "* Algoritmos de aprendizado supervisionado, não supervisionado e por reforço\n",
            "* Técnicas de preparação de dados e seleção de recursos\n",
            "* Avaliação de modelos de ML\n",
            "\n",
            "**Aprendizado Profundo (DL)**\n",
            "\n",
            "* Redes Neurais e suas arquiteturas\n",
            "* Técnicas de treinamento (Backpropagation, Gradient Descent)\n",
            "* Aplicações de DL (processamento de imagem, reconhecimento de fala)\n",
            "\n",
            "**Processamento de Linguagem Natural (PLN)**\n",
            "\n",
            "* Processamento e compreensão de texto\n",
            "* Modelagem de linguagem e geração de texto\n",
            "* Aplicações de PLN (chatbots, tradução automática)\n",
            "\n",
            "**Visão Computacional**\n",
            "\n",
            "* Reconhecimento de objetos, segmentação e rastreamento\n",
            "* Técnicas de processamento de imagens e vídeo\n",
            "* Aplicações de visão computacional (veículos autônomos, diagnósticos médicos)\n",
            "\n",
            "**IA em setores específicos**\n",
            "\n",
            "* IA em saúde\n",
            "* IA em finanças\n",
            "* IA na educação\n",
            "* IA no varejo\n",
            "\n",
            "**Tendências e Avanços de IA**\n",
            "\n",
            "* IA Generativa (GPT-3, DALL-E 2)\n",
            "* Aprendizado por Transferência\n",
            "* IA Explicável e Interpretável\n"
          ]
        }
      ]
    },
    {
      "cell_type": "code",
      "source": [],
      "metadata": {
        "id": "CK-owcJUCHHj"
      },
      "execution_count": null,
      "outputs": []
    }
  ]
}